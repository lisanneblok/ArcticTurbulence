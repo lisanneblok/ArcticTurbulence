{
 "cells": [
  {
   "cell_type": "markdown",
   "metadata": {
    "collapsed": false
   },
   "source": [
    "## Merge all datasets\n",
    "Arctic dataframe and dataframe from Waterhouse et al., made in data_exploration/load_ds notebook"
   ]
  },
  {
   "cell_type": "code",
   "execution_count": 12,
   "metadata": {
    "collapsed": false
   },
   "outputs": [],
   "source": [
    "import pandas as pd\n",
    "import numpy as np\n",
    "import matplotlib.pyplot as plt\n",
    "from sklearn.cluster import KMeans\n",
    "from sklearn.preprocessing import StandardScaler"
   ]
  },
  {
   "cell_type": "code",
   "execution_count": 13,
   "metadata": {
    "collapsed": false
   },
   "outputs": [],
   "source": [
    "import sys\n",
    "import os\n",
    "sys.path.append('../..')\n",
    "from src.utils.directories import get_parent_directory\n",
    "\n",
    "import warnings\n",
    "warnings.filterwarnings(\"ignore\", category=RuntimeWarning)"
   ]
  },
  {
   "cell_type": "code",
   "execution_count": 14,
   "metadata": {
    "collapsed": false
   },
   "outputs": [],
   "source": [
    "parent_dir = get_parent_directory()"
   ]
  },
  {
   "cell_type": "code",
   "execution_count": 15,
   "metadata": {
    "collapsed": false
   },
   "outputs": [
    {
     "data": {
      "text/plain": [
       "'/Users/Lisanne/Documents/AI4ER/Mres/ArcticTurbulence'"
      ]
     },
     "execution_count": 15,
     "metadata": {},
     "output_type": "execute_result"
    }
   ],
   "source": [
    "parent_dir"
   ]
  },
  {
   "cell_type": "code",
   "execution_count": 16,
   "metadata": {
    "collapsed": false
   },
   "outputs": [],
   "source": [
    "global_pkl = os.path.join(parent_dir, \"data/processed/Mashayek2022/input_microstructure.pkl\")\n",
    "global_df = pd.read_pickle(global_pkl)\n",
    "global_df = global_df.rename(columns={'lat': 'latitude', 'log_N2_sort': 'log_N2'})\n",
    "\n",
    "# Rename columns using the rename() method\n",
    "waterhouse_df = global_df.rename(columns={'log_N2_sort': 'log_N2', 'log_kappa': 'LK', 'lat': 'latitude'})"
   ]
  },
  {
   "cell_type": "code",
   "execution_count": 17,
   "metadata": {
    "collapsed": false
   },
   "outputs": [],
   "source": [
    "# arctic_pkl = '/Users/Lisanne/Documents/AI4ER/Mres/ArcticTurbulence/data/processed_data/ml_ready/arctic2_1805.pkl'\n",
    "arctic_pkl = (os.path.join(parent_dir, \"data/processed/ml_ready/1710_time.pkl\"))\n",
    "arctic_df = pd.read_pickle(arctic_pkl)"
   ]
  },
  {
   "cell_type": "markdown",
   "metadata": {
    "collapsed": false
   },
   "source": [
    "## Concatenate dataframes"
   ]
  },
  {
   "cell_type": "code",
   "execution_count": 18,
   "metadata": {
    "collapsed": false
   },
   "outputs": [],
   "source": [
    "all_df = pd.concat([arctic_df, waterhouse_df], axis=0)\n",
    "arctic_df = all_df[['depth', 'profile', 'cruise', 'latitude', 'longitude',\n",
    "                 'S', 'T', 'log_eps', 'log_N2', 'dTdz', 'dSdz', 'time', 'season', 'seasonal_sin']]\n",
    "all_df = all_df[['depth', 'profile', 'cruise', 'latitude',\n",
    "                 'S', 'T', 'log_eps', 'log_N2', 'dTdz', 'dSdz']]"
   ]
  },
  {
   "cell_type": "markdown",
   "metadata": {
    "collapsed": false
   },
   "source": [
    "## Save merged dataframe"
   ]
  },
  {
   "cell_type": "code",
   "execution_count": 21,
   "metadata": {
    "collapsed": false
   },
   "outputs": [],
   "source": [
    "arctic_pkl_path = (os.path.join(parent_dir, \"data/processed/ml_ready/merged_arctic.pkl\"))\n",
    "arctic_df.to_pickle(arctic_pkl_path)\n",
    "\n",
    "all_pkl_path = (os.path.join(parent_dir, \"data/processed/ml_ready/merged_all.pkl\"))\n",
    "all_df.to_pickle(all_pkl_path)"
   ]
  }
 ],
 "metadata": {
  "kernelspec": {
   "display_name": "Python 3",
   "language": "python",
   "name": "python3"
  },
  "language_info": {
   "codemirror_mode": {
    "name": "ipython",
    "version": 3
   },
   "file_extension": ".py",
   "mimetype": "text/x-python",
   "name": "python",
   "nbconvert_exporter": "python",
   "pygments_lexer": "ipython3",
   "version": "3.11.3"
  }
 },
 "nbformat": 4,
 "nbformat_minor": 0
}
